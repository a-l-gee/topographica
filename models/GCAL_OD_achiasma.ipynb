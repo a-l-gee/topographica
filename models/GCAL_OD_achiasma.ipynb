{
 "metadata": {
  "name": ""
 },
 "nbformat": 3,
 "nbformat_minor": 0,
 "worksheets": [
  {
   "cells": [
    {
     "cell_type": "markdown",
     "metadata": {},
     "source": [
      "# GCAL_OD_achiasma model\n",
      "\n",
      "This IPython notebook defines and explores the GCAL_OD model adapted to represent the achiasmatic/albinotic condition.\n",
      "\n",
      "In the normal GCAL_OD model, the two retinal sheets represent the hemiretinae of each eye that contribute to one side of the visual field. In the case of achiasma, the retinal sheets will represent the two hemiretinae from the same eye, contributing inputs to one side of V1 from opposing sides of the visual field. \n",
      "\n",
      "TO DO:\n",
      "\n",
      "- Implement the mirror-flipping by including 'coord_mapper=Scale2d(sx=-1.0 if e=='Left' else 1.0)' in the topo.sim.connect calls from the retina to the LGN.  \n",
      "\n",
      "- How to get CF and Projection plots?\n",
      "\n",
      "- Figures for what we are representing. What inputs are going into the RGC and trough to the LGN/V1?? Think about albinism as well. \n",
      "Remember the patches are parafoveal. Use the paper provided by Dr Hoffmann. \n",
      "\n",
      "\n",
      "\n",
      "## Model Definition\n",
      "\n",
      "This version is altered from the one in my github repo (to update). The rotating is commented out, the dataset is Foliage, the position difference is greater.\n",
      "\n",
      "### Description and Imports\n"
     ]
    },
    {
     "cell_type": "code",
     "collapsed": false,
     "input": [
      "\"\"\"\n",
      "Simple GCAL-based ocular dominance map based on the orientation map\n",
      "simulation from:\n",
      "\n",
      "   Jean-Luc R. Stevens, Judith S. Law, Jan Antolik, and James A. Bednar.\n",
      "   Mechanisms for stable, robust, and adaptive development of orientation\n",
      "   maps in the primary visual cortex.\n",
      "   Journal of Neuroscience 33:15747-15766, 2013.\n",
      "   http://dx.doi.org/10.1523/JNEUROSCI.1037-13.2013\n",
      "\n",
      "extended to have two eyes and to use dimming (random brightness\n",
      "differences between the inputs to the two eyes). Gain control uses\n",
      "lateral inhibition pooled from both eyes, which would represent\n",
      "processing at the LGN level rather than in the retinal ganglion cells.\n",
      "\n",
      "Not yet calibrated or validated, particularly for disparity.\n",
      "\"\"\"\n",
      "\n",
      "\n",
      "from math import pi\n",
      "\n",
      "import numpy\n",
      "import param\n",
      "\n",
      "from topo import learningfn,numbergen,transferfn,pattern,projection,responsefn,sheet,coordmapper\n",
      "\n",
      "import topo.learningfn.optimized\n",
      "import topo.learningfn.projfn\n",
      "import topo.transferfn.optimized\n",
      "import topo.pattern.random\n",
      "import topo.pattern.image\n",
      "import topo.responsefn.optimized\n",
      "import topo.sheet.optimized\n",
      "\n",
      "import topo.transferfn.misc\n",
      "from topo.base.arrayutil import DivideWithConstant\n"
     ],
     "language": "python",
     "metadata": {},
     "outputs": [
      {
       "output_type": "stream",
       "stream": "stdout",
       "text": [
        "#### ['/usr/bin/clang', '-fno-strict-aliasing', '-fno-common', '-dynamic', '-arch', 'i386', '-arch', 'x86_64', '-g', '-DNDEBUG', '-g', '-fwrapv', '-O3', '-Wall', '-Wstrict-prototypes'] #######\n"
       ]
      },
      {
       "output_type": "stream",
       "stream": "stdout",
       "text": [
        "Missing compiler_cxx fix for UnixCCompiler\n"
       ]
      }
     ],
     "prompt_number": 1
    },
    {
     "cell_type": "markdown",
     "metadata": {},
     "source": [
      "# Parameters\n",
      "\n",
      "These are the parameters that define:\n",
      "\n",
      "- The dataset used\n",
      "\n",
      "- The number of input patterns to present per unit area at each iteration when using discrete patterns\n",
      "\n",
      "- The stimulus dimensions to include, for orientation, ocular dominance or disparity\n",
      "\n",
      "- The size of the V1 Sheet area\n",
      "\n",
      "- Whether to use gain control\n",
      "\n",
      "- Nominal densities to use for V1, LGN, and the retina\n",
      "\n",
      "- Dimming fraction and maximum disparity\n",
      "\n",
      "- Strength and learning rates of the afferent projection to V1, and of the lateral excitatory and inhibitory projections to V1\n"
     ]
    },
    {
     "cell_type": "code",
     "collapsed": false,
     "input": [
      "# Parameters that can be passed on the command line using -p\n",
      "from topo.misc.commandline import global_params as p\n",
      "p.add(\n",
      "\n",
      "    dataset=param.ObjectSelector(default='Foliage',objects=\n",
      "        ['Gaussian', 'Foliage'],doc=\"\"\"\n",
      "        Set of input patterns to use::\n",
      "\n",
      "          :'Gaussian': Two-dimensional Gaussians\n",
      "          :'Foliage': images of foliage, 768 x 576\"\"\"),\n",
      "\n",
      "    num_inputs=param.Integer(default=2,bounds=(1,None),doc=\"\"\"\n",
      "        How many input patterns to present per unit area at each\n",
      "        iteration, when using discrete patterns (e.g. Gaussians).\"\"\"),\n",
      "\n",
      "    dims=param.List(default=['or','od'],class_=str,doc=\"\"\"\n",
      "        Stimulus dimensions to include, out of the possible list::\n",
      "\n",
      "          :'or': Orientation\n",
      "          :'od': Ocular dominance\n",
      "          :'dy': Disparity\n",
      "\n",
      "        Each additional dimension increases the realism, but adds\n",
      "        significant complexity (and possibly computation time and\n",
      "        memory requirements).\"\"\"),\n",
      "\n",
      "    area=param.Number(default=1.0,bounds=(0,None),\n",
      "        inclusive_bounds=(False,True),doc=\"\"\"\n",
      "        Linear size of cortical area to simulate.\n",
      "        2.0 gives a 2.0x2.0 Sheet area in V1.\"\"\"),\n",
      "\n",
      "    gain_control=param.Boolean(default=True,doc=\"\"\"\n",
      "        Whether to use divisive lateral inhibition in the LGN for contrast gain control.\"\"\"),\n",
      "\n",
      "    retina_density=param.Number(default=24.0,bounds=(0,None),\n",
      "        inclusive_bounds=(False,True),doc=\"\"\"\n",
      "        The nominal_density to use for the retina.\"\"\"),\n",
      "\n",
      "    lgn_density=param.Number(default=24.0,bounds=(0,None),\n",
      "        inclusive_bounds=(False,True),doc=\"\"\"\n",
      "        The nominal_density to use for the LGN.\"\"\"),\n",
      "\n",
      "    cortex_density=param.Number(default=48.0,bounds=(0,None),\n",
      "        inclusive_bounds=(False,True),doc=\"\"\"\n",
      "        The nominal_density to use for V1.\"\"\"),\n",
      "\n",
      "    dim_fraction=param.Number(default=0.7,bounds=(0.0,1.0),doc=\"\"\"\n",
      "        Fraction by which the input brightness varies between the two eyes.\"\"\"),\n",
      "\n",
      "    max_disparity=param.Number(default=4.0,bounds=(0,None),doc=\"\"\"\n",
      "        Maximum disparity between input pattern positions in left and\n",
      "        right eyes.\"\"\"),\n",
      "\n",
      "    aff_strength=param.Number(default=1.0,bounds=(0.0,None),doc=\"\"\"\n",
      "        Overall strength of the afferent projection to V1.\"\"\"),\n",
      "\n",
      "    exc_strength=param.Number(default=1.7,bounds=(0.0,None),doc=\"\"\"\n",
      "        Overall strength of the lateral excitatory projection to V1.\"\"\"),\n",
      "\n",
      "    inh_strength=param.Number(default=1.4,bounds=(0.0,None),doc=\"\"\"\n",
      "        Overall strength of the lateral inhibitory projection to V1.\"\"\"),\n",
      "\n",
      "    aff_lr=param.Number(default=0.1,bounds=(0.0,None),doc=\"\"\"\n",
      "        Learning rate for the afferent projection to V1.\"\"\"),\n",
      "\n",
      "    exc_lr=param.Number(default=0.0,bounds=(0.0,None),doc=\"\"\"\n",
      "        Learning rate for the lateral excitatory projection to V1.\"\"\"),\n",
      "\n",
      "    inh_lr=param.Number(default=0.3,bounds=(0.0,None),doc=\"\"\"\n",
      "        Learning rate for the lateral inhibitory projection to V1.\"\"\"))\n",
      "\n"
     ],
     "language": "python",
     "metadata": {},
     "outputs": [],
     "prompt_number": 2
    },
    {
     "cell_type": "markdown",
     "metadata": {},
     "source": [
      "### Enabling optimizations and making ConnectionFields circular:"
     ]
    },
    {
     "cell_type": "code",
     "collapsed": false,
     "input": [
      "### Specify weight initialization, response function, and learning function\n",
      "projection.CFProjection.cf_shape=pattern.Disk(smoothing=0.0)\n",
      "projection.CFProjection.weights_generator=pattern.Constant()\n",
      "projection.CFProjection.response_fn=responsefn.optimized.CFPRF_DotProduct_opt()\n",
      "projection.CFProjection.learning_fn=learningfn.optimized.CFPLF_Hebbian_opt()\n",
      "projection.CFProjection.weights_output_fns=[transferfn.optimized.CFPOF_DivisiveNormalizeL1_opt()]\n",
      "projection.SharedWeightCFProjection.response_fn=responsefn.optimized.CFPRF_DotProduct_opt()\n",
      "\n"
     ],
     "language": "python",
     "metadata": {},
     "outputs": [],
     "prompt_number": 3
    },
    {
     "cell_type": "markdown",
     "metadata": {},
     "source": [
      "## Input patterns and LGN sheets\n",
      "### Set up parameters for specified type of simulation:\n",
      "\n",
      "Ocular dominance toggled by 'od', disparity toggled by 'dy'. \n"
     ]
    },
    {
     "cell_type": "code",
     "collapsed": false,
     "input": [
      "# Defaults: # parameters for:\n",
      "center_polarities=['On','Off']     # oo\n",
      "eyes=['']                          # od,dy\n",
      "disparity_bound = 0.0              # dy\n",
      "position_bound = p.area/2.0+0.25   # dy\n",
      "\n",
      "topo.sim.name = \"gcal_\" + '_'.join(p.dims)\n",
      "\n",
      "if 'od' in p.dims or 'dy' in p.dims:\n",
      "    eyes=['Left','Right']\n",
      "\n",
      "if 'dy' in p.dims:\n",
      "    disparity_bound = p.max_disparity*0.041665/2.0\n",
      "    if p.max_disparity > 0.0:\n",
      "        position_bound = p.area/2.0+0.2\n",
      "\n",
      "\n",
      "# base seed for input patterns; change to get completely new random\n",
      "numpy.random.seed((500,500))\n",
      "\n",
      "# input pattern parameters\n",
      "input_seed = 500\n",
      "\n"
     ],
     "language": "python",
     "metadata": {},
     "outputs": [],
     "prompt_number": 4
    },
    {
     "cell_type": "markdown",
     "metadata": {},
     "source": [
      "### Number of afferent connections to V1 - ask?"
     ]
    },
    {
     "cell_type": "code",
     "collapsed": false,
     "input": [
      "\n",
      "# Convenience variable; number of afferent connections to V1\n",
      "num_aff=len(center_polarities)*len(eyes)\n",
      "\n"
     ],
     "language": "python",
     "metadata": {},
     "outputs": [],
     "prompt_number": 5
    },
    {
     "cell_type": "markdown",
     "metadata": {},
     "source": [
      "##Input patterns and subcortical sheets\n",
      "\n",
      "IN THE NORMAL GCAL MODEL, the 'eyes' list created before represents the left and right hemiretinae of a given visual field. \n",
      "\n",
      "In this model, the hemiretinae are both from the same eye. This is simulated by generating new random Gaussians for each eye, and by keeping the same y-ccordinate but randomly generated x co-ordinate in the case of natural images. (Add eye_seed to y)\n",
      "\n",
      "Line 27:  Changing x position of input, keeping y constant\n",
      "\n"
     ]
    },
    {
     "cell_type": "code",
     "collapsed": false,
     "input": [
      "### Input patterns and subcortical sheets\n",
      "\n",
      "for e in eyes:\n",
      "    eye_seed = 1 if e=='Left' else 2  \n",
      "    if p.dataset==\"Gaussian\":\n",
      "        input_type=pattern.Gaussian\n",
      "        total_num_inputs=int(p.num_inputs*p.area*p.area)\n",
      "        posbound = position_bound\n",
      "        \n",
      "        inputs=[input_type(\n",
      "                x=numbergen.UniformRandom(lbound=-posbound,ubound=posbound,seed=input_seed+6*i + eye_seed) + \\\n",
      "                numbergen.UniformRandom(lbound=-disparity_bound,ubound=disparity_bound,seed=input_seed+1+6*i)*(-1)**(e=='Left'),\n",
      "                y=numbergen.UniformRandom(lbound=-0.75,ubound=0.75,seed=input_seed+2+6*i + eye_seed),\n",
      "                orientation=numbergen.UniformRandom(lbound=-pi,ubound=pi,seed=input_seed+3+6*i),# + (pi/2 if e=='Left' else -pi/2),\n",
      "                size=0.088388,\n",
      "                aspect_ratio=4.66667,\n",
      "                scale= (1-p.dim_fraction) + p.dim_fraction * \\\n",
      "                    ((2.0-numbergen.UniformRandom(lbound=0,ubound=2,seed=input_seed+5+6*i)) if e=='Right' else \\\n",
      "                         numbergen.UniformRandom(lbound=0,ubound=2,seed=input_seed+5+6*i)))\n",
      "                for i in xrange(total_num_inputs)]\n",
      "        combined_inputs=pattern.SeparatedComposite(min_separation=2.2*0.27083,generators=inputs)\n",
      "\n",
      "\n",
      "    elif p.dataset==\"Foliage\":\n",
      "        input_type=pattern.image.FileImage\n",
      "        image_filenames=[\"images/mcgill_img/foliage/%02d.png\"%(i+1) for i in xrange(25)]\n",
      "\n",
      "        inputs=[input_type(\n",
      "            filename=f, size=10.0, cache_image=False,\n",
      "            x=numbergen.UniformRandom(lbound=-0.75,ubound=0.75,seed=input_seed+5*i + eye_seed) + \\\n",
      "            numbergen.UniformRandom(lbound=-disparity_bound,ubound=disparity_bound,\n",
      "                                    seed=input_seed+1+5*i)*(-1)**(e=='Left') + \\\n",
      "            (-1.0 if e=='Left' else 1.0),\n",
      "            y=numbergen.UniformRandom(lbound=-0.75,ubound=0.75,seed=input_seed+2+5*i),\n",
      "            orientation=numbergen.UniformRandom(lbound=-pi/8,ubound=pi/8,seed=input_seed+3+5*i),# + (pi/2 if e=='Left' else -pi/2),\n",
      "            scale= (1-p.dim_fraction) + p.dim_fraction * \\\n",
      "               (2.0-numbergen.UniformRandom(lbound=0,ubound=2,seed=input_seed+4+5*i)) if e=='Right' else \\\n",
      "                   numbergen.UniformRandom(lbound=0,ubound=2,seed=input_seed+4+5*i))\n",
      "        for f,i in zip(image_filenames,range(len(image_filenames)))]\n",
      "        combined_inputs=pattern.Selector(generators=inputs)\n",
      "\n",
      " \n",
      "    # Create Retina and LGN sheets\n",
      "\n",
      "    topo.sim[e+'Retina']=sheet.GeneratorSheet(nominal_density=p.retina_density,\n",
      "        input_generator=combined_inputs, period=1.0, phase=0.05,\n",
      "        nominal_bounds=sheet.BoundingBox(radius=p.area/2.0+0.25+0.375+0.5))\n",
      "\n",
      "    for l in center_polarities:\n",
      "            s=e+'LGN'+l\n",
      "\n",
      "            if p.gain_control:\n",
      "                lgn_sheet_type = sheet.optimized.SettlingCFSheet_Opt\n",
      "                lgn_sheet_args = {'output_fns':[transferfn.misc.HalfRectify()],'tsettle':2,'strict_tsettle':1}\n",
      "            else:\n",
      "                lgn_sheet_type = sheet.CFSheet\n",
      "                lgn_sheet_args = {'output_fns':[transferfn.PiecewiseLinear(lower_bound=0.0,upper_bound=1.0)]}\n",
      "\n",
      "            topo.sim[s]=lgn_sheet_type(\n",
      "                nominal_density=p.lgn_density, row_precedence=0.6 if l=='On' else 0.7,\n",
      "                nominal_bounds=sheet.BoundingBox(radius=p.area/2.0+0.25+0.5),measure_maps=False,\n",
      "                **lgn_sheet_args)\n",
      "\n"
     ],
     "language": "python",
     "metadata": {},
     "outputs": [],
     "prompt_number": 6
    },
    {
     "cell_type": "markdown",
     "metadata": {},
     "source": [
      "##V1 Sheet:"
     ]
    },
    {
     "cell_type": "code",
     "collapsed": false,
     "input": [
      "\n",
      "### V1 sheet\n",
      "topo.sim['V1'] = sheet.SettlingCFSheet(nominal_density=p.cortex_density,\n",
      "    tsettle=16, plastic=True,\n",
      "    nominal_bounds=sheet.BoundingBox(radius=p.area/2.0),\n",
      "    output_fns=[transferfn.misc.HomeostaticResponse()])\n",
      "\n",
      "topo.sim['V1'].joint_norm_fn=topo.sheet.optimized.compute_joint_norm_totals_opt\n",
      "\n"
     ],
     "language": "python",
     "metadata": {},
     "outputs": [],
     "prompt_number": 7
    },
    {
     "cell_type": "markdown",
     "metadata": {},
     "source": [
      "#Connections\n",
      "\n",
      "Here we add the 'mirroring' effect from the retina to the LGN to reflect the mirror-reversed input. "
     ]
    },
    {
     "cell_type": "code",
     "collapsed": false,
     "input": [
      "\n",
      "# Fixed weights to LGN cells\n",
      "centerg = pattern.Gaussian(size=0.07385,aspect_ratio=1.0,\n",
      "                             output_fns=[transferfn.DivisiveNormalizeL1()])\n",
      "surroundg = pattern.Gaussian(size=0.29540,aspect_ratio=1.0,\n",
      "                             output_fns=[transferfn.DivisiveNormalizeL1()])\n",
      "\n",
      "on_weights = pattern.Composite(\n",
      "    generators=[centerg,surroundg],operator=numpy.subtract)\n",
      "\n",
      "off_weights = pattern.Composite(\n",
      "    generators=[surroundg,centerg],operator=numpy.subtract)\n",
      "\n",
      "lgn_surroundg = pattern.Gaussian(size=0.25,aspect_ratio=1.0,\n",
      "                                 output_fns=[transferfn.DivisiveNormalizeL1()])\n",
      "\n",
      "\n",
      "for e in eyes:\n",
      "    for l in center_polarities:\n",
      "        topo.sim.connect(e+'Retina',\n",
      "                         e+'LGN'+l, delay=0.05,strength=2.33,name='Afferent',\n",
      "                         connection_type=projection.SharedWeightCFProjection,\n",
      "                         nominal_bounds_template=sheet.BoundingBox(radius=0.375),\n",
      "                         weights_generator=on_weights if l=='On' else off_weights)\n",
      "\n",
      "        # Add lateral connections from all eyes for divisive normalization\n",
      "        if p.gain_control:\n",
      "            for e2 in eyes:\n",
      "                topo.sim.connect(e2+'LGN'+l,e+'LGN'+l,delay=0.05,name=e2+'LateralGC',\n",
      "                                 dest_port=('Activity'),\n",
      "                                 activity_group=(0.6,DivideWithConstant(c=0.11)),\n",
      "                                 connection_type=projection.SharedWeightCFProjection,\n",
      "                                 strength=0.6/len(eyes),weights_generator=lgn_surroundg,\n",
      "                                 nominal_bounds_template=sheet.BoundingBox(radius=0.25))\n",
      "\n",
      "\n",
      "        topo.sim.connect(e+'LGN'+l, 'V1', delay=0.05,\n",
      "                         dest_port=('Activity', 'JointNormalize', 'Afferent'),\n",
      "                         connection_type=projection.CFProjection,\n",
      "                         strength=p.aff_strength*(1.0 if not p.gain_control else 1.5),\n",
      "                         name=e+'LGN'+l+'Afferent',\n",
      "                         coord_mapper=coordmapper.Scale2d(sx=-1.0 if e=='Left' else 1.0),\n",
      "                         weights_generator=pattern.random.GaussianCloud(gaussian_size=2*0.27083),\n",
      "                         nominal_bounds_template=sheet.BoundingBox(radius=0.27083),\n",
      "                         learning_rate=p.aff_lr)\n",
      "\n",
      "\n",
      "topo.sim.connect(\n",
      "    'V1','V1',delay=0.05,strength=p.exc_strength,name='LateralExcitatory',\n",
      "    connection_type=projection.CFProjection,learning_rate=p.exc_lr,\n",
      "    nominal_bounds_template=sheet.BoundingBox(radius=0.104),\n",
      "    weights_generator=pattern.Gaussian(aspect_ratio=1.0, size=0.05))\n",
      "\n",
      "topo.sim.connect(\n",
      "    'V1','V1',delay=0.05,strength=-1.0*p.inh_strength,name='LateralInhibitory',\n",
      "    connection_type=projection.CFProjection,learning_rate=p.inh_lr,\n",
      "    nominal_bounds_template=sheet.BoundingBox(radius=0.22917),\n",
      "    weights_generator=pattern.random.GaussianCloud(gaussian_size=0.15))\n",
      "\n",
      "True\n"
     ],
     "language": "python",
     "metadata": {},
     "outputs": [
      {
       "metadata": {},
       "output_type": "pyout",
       "prompt_number": 8,
       "text": [
        "True"
       ]
      }
     ],
     "prompt_number": 8
    },
    {
     "cell_type": "markdown",
     "metadata": {},
     "source": [
      "#Default locations for model editor"
     ]
    },
    {
     "cell_type": "code",
     "collapsed": false,
     "input": [
      "### Default locations for model editor\n",
      "vs = [None]*(num_aff-1) + ['V1'] + [None]*(num_aff)\n",
      "\n",
      "ls=[]\n",
      "for e in eyes:\n",
      "    for l in center_polarities:\n",
      "        ls += [e+'LGN'+l]+[None]\n",
      "\n",
      "es=[]\n",
      "for e in eyes:\n",
      "    es += [None]*(len(center_polarities)/2) + [e+'Retina',None] + \\\n",
      "          [None]*(len(center_polarities)/2)\n",
      "\n",
      "topo.sim.grid_layout([vs,ls,es], xstep=70/len(eyes), ystep=200, item_scale=0.6/len(eyes))\n",
      "\n",
      "\n"
     ],
     "language": "python",
     "metadata": {},
     "outputs": [],
     "prompt_number": 9
    },
    {
     "cell_type": "markdown",
     "metadata": {},
     "source": [
      "### Set up appropriate defaults for analysis"
     ]
    },
    {
     "cell_type": "code",
     "collapsed": false,
     "input": [
      "\n",
      "# Declare which maps to measure in run_batch by default\n",
      "preference_maps=[\n",
      "('od',['Ocular Preference']),\n",
      "('or',['Orientation Preference']),\n",
      "('dy',['PhaseDisparity Preference']),\n",
      "]\n",
      "pgs = [x for y in [m for n,m in preference_maps if n in p.dims] for x in y] + \\\n",
      "      ['Position Preference','Activity']\n",
      "import topo.command\n",
      "topo.command.default_analysis_plotgroups=pgs\n",
      "\n",
      "# When not using gain control, need to measure feature maps based on\n",
      "# unthresholded initial response for speed and reliability (otherwise\n",
      "# will need to set correct input pattern scale to get reliable responses).\n",
      "from topo.analysis.featureresponses import MeasureResponseCommand\n",
      "MeasureResponseCommand.durations=[1.0 if p.gain_control else 0.175]\n",
      "MeasureResponseCommand.pattern_response_fn.apply_output_fns=p.gain_control\n",
      "\n",
      "import topo.analysis.featureresponses\n",
      "topo.analysis.featureresponses.FeatureMaps.selectivity_multiplier=2.0"
     ],
     "language": "python",
     "metadata": {},
     "outputs": [],
     "prompt_number": "*"
    },
    {
     "cell_type": "markdown",
     "metadata": {},
     "source": [
      "#Inspection after 3000 iterations"
     ]
    },
    {
     "cell_type": "code",
     "collapsed": false,
     "input": [
      "from topo.misc.ipython import RunProgress\n",
      "RunProgress()(3000)"
     ],
     "language": "python",
     "metadata": {},
     "outputs": [
      {
       "output_type": "stream",
       "stream": "stdout",
       "text": [
        "\r",
        "Progress:\n",
        "[##############                                                        ] 20.0%"
       ]
      }
     ],
     "prompt_number": "*"
    },
    {
     "cell_type": "code",
     "collapsed": false,
     "input": [
      "from topo.command.analysis import measure_od_pref\n",
      "maps = measure_od_pref()\n",
      "maps.OrientationPreference.V1.last"
     ],
     "language": "python",
     "metadata": {},
     "outputs": [],
     "prompt_number": "*"
    },
    {
     "cell_type": "code",
     "collapsed": false,
     "input": [
      "%%opts SheetView cmap=\"hot\"\n",
      "maps.OcularPreference.V1.last"
     ],
     "language": "python",
     "metadata": {},
     "outputs": [],
     "prompt_number": "*"
    },
    {
     "cell_type": "code",
     "collapsed": false,
     "input": [
      "maps.OcularPreference.V1.last + maps.OcularSelectivity.V1.last"
     ],
     "language": "python",
     "metadata": {},
     "outputs": [],
     "prompt_number": "*"
    },
    {
     "cell_type": "code",
     "collapsed": false,
     "input": [
      "from topo.command.analysis import measure_cog\n",
      "cog_data = measure_cog()"
     ],
     "language": "python",
     "metadata": {},
     "outputs": [],
     "prompt_number": "*"
    },
    {
     "cell_type": "code",
     "collapsed": false,
     "input": [
      "cog_data.Afferent"
     ],
     "language": "python",
     "metadata": {},
     "outputs": [],
     "prompt_number": "*"
    },
    {
     "cell_type": "code",
     "collapsed": false,
     "input": [
      "cog_data.CoG.V1"
     ],
     "language": "python",
     "metadata": {},
     "outputs": [],
     "prompt_number": "*"
    },
    {
     "cell_type": "code",
     "collapsed": false,
     "input": [
      "cog_data.CoG.Afferent.last"
     ],
     "language": "python",
     "metadata": {},
     "outputs": [],
     "prompt_number": "*"
    },
    {
     "cell_type": "markdown",
     "metadata": {},
     "source": [
      "#Inspection after 10000 iterations"
     ]
    },
    {
     "cell_type": "code",
     "collapsed": false,
     "input": [
      "from topo.misc.ipython import RunProgress\n",
      "RunProgress()(7000)"
     ],
     "language": "python",
     "metadata": {},
     "outputs": [],
     "prompt_number": "*"
    },
    {
     "cell_type": "markdown",
     "metadata": {},
     "source": [
      "## Orientation preference\n",
      "The average preferred orientation computer for each neuron, after presentation of 24 sine gratings:"
     ]
    },
    {
     "cell_type": "code",
     "collapsed": false,
     "input": [
      "measure_od_pref()['V1']['OcularPreference'].top"
     ],
     "language": "python",
     "metadata": {},
     "outputs": [],
     "prompt_number": "*"
    },
    {
     "cell_type": "markdown",
     "metadata": {},
     "source": [
      "##Centre-of-gravity plot"
     ]
    },
    {
     "cell_type": "code",
     "collapsed": false,
     "input": [
      "cog_data = measure_cog()\n",
      "topo.sim.V1.views.maps.CoG"
     ],
     "language": "python",
     "metadata": {},
     "outputs": [],
     "prompt_number": "*"
    },
    {
     "cell_type": "code",
     "collapsed": false,
     "input": [],
     "language": "python",
     "metadata": {},
     "outputs": [],
     "prompt_number": "*"
    }
   ],
   "metadata": {}
  }
 ]
}